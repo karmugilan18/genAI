{
  "nbformat": 4,
  "nbformat_minor": 0,
  "metadata": {
    "colab": {
      "provenance": [],
      "authorship_tag": "ABX9TyNgmMFbRsVN03TxjLic1kS1",
      "include_colab_link": true
    },
    "kernelspec": {
      "name": "python3",
      "display_name": "Python 3"
    },
    "language_info": {
      "name": "python"
    }
  },
  "cells": [
    {
      "cell_type": "markdown",
      "metadata": {
        "id": "view-in-github",
        "colab_type": "text"
      },
      "source": [
        "<a href=\"https://colab.research.google.com/github/gosaitos/GEN-AI/blob/main/yt_summarizer.ipynb\" target=\"_parent\"><img src=\"https://colab.research.google.com/assets/colab-badge.svg\" alt=\"Open In Colab\"/></a>"
      ]
    },
    {
      "cell_type": "code",
      "source": [
        "from langchain.document_loaders import YoutubeLoader\n",
        "from langchain.text_splitter import RecursiveCharacterTextSplitter\n",
        "from transformers import pipeline\n",
        "\n",
        "# Step 1: Get YouTube Transcript\n",
        "def fetch_transcript(video_url):\n",
        "    loader = YoutubeLoader.from_youtube_url(video_url, add_video_info=False)\n",
        "    docs = loader.load()\n",
        "    if not docs:\n",
        "        raise ValueError(\"❌ No transcript found.\")\n",
        "    return docs[0].page_content\n",
        "\n",
        "# Step 2: Split Transcript\n",
        "def split_text(text, chunk_size=1000, chunk_overlap=100):\n",
        "    splitter = RecursiveCharacterTextSplitter(chunk_size=chunk_size, chunk_overlap=chunk_overlap)\n",
        "    return splitter.split_text(text)\n",
        "\n",
        "# Step 3: Translate Tamil → English (if needed)\n",
        "def translate_chunks(chunks, source_lang='ta'):\n",
        "    if source_lang == 'ta':\n",
        "        translator = pipeline(\"translation\", model=\"Helsinki-NLP/opus-mt-en-ta\")\n",
        "        translated = []\n",
        "        for chunk in chunks:\n",
        "            try:\n",
        "                result = translator(chunk[:512])[0]['translation_text']\n",
        "                translated.append(result)\n",
        "            except Exception as e:\n",
        "                print(f\"⚠️ Translation error: {e}\")\n",
        "        return translated\n",
        "    return chunks\n",
        "\n",
        "# Step 4: Summarize Text\n",
        "def summarize_chunks(chunks):\n",
        "    summarizer = pipeline(\"summarization\", model=\"facebook/bart-large-cnn\")\n",
        "    summaries = []\n",
        "    for chunk in chunks:\n",
        "        try:\n",
        "            result = summarizer(chunk, max_length=50, min_length=10, do_sample=False)\n",
        "            summaries.append(result[0]['summary_text'])\n",
        "        except Exception as e:\n",
        "            print(f\"⚠️ Summarization error: {e}\")\n",
        "    return \"\\n\".join(summaries)\n",
        "\n",
        "# Step 5: Full Pipeline\n",
        "def summarize_youtube_video(video_url, source_language='auto'):\n",
        "    print(\"📥 Fetching transcript...\")\n",
        "    transcript = fetch_transcript(video_url)\n",
        "\n",
        "    print(\"✂️ Splitting transcript...\")\n",
        "    chunks = split_text(transcript)\n",
        "\n",
        "    if source_language == 'ta':\n",
        "        print(\"🌐 Translating Tamil → English...\")\n",
        "        chunks = translate_chunks(chunks, source_lang='ta')\n",
        "\n",
        "    print(\"🧠 Summarizing chunks...\")\n",
        "    final_summary = summarize_chunks(chunks)\n",
        "\n",
        "    return final_summary\n",
        "\n",
        "# Run\n",
        "if __name__ == \"__main__\":\n",
        "    url = input(\"📺 YouTube URL: \").strip()\n",
        "    lang = input(\"🌐 Language? ('ta' for Tamil, leave empty for English): \").strip() or 'auto'\n",
        "    try:\n",
        "        summary = summarize_youtube_video(url, source_language=lang)\n",
        "        print(\"\\n✅ Final Summary:\\n\")\n",
        "        print(summary)\n",
        "    except Exception as e:\n",
        "        print(f\"❌ Error: {str(e)}\")\n"
      ],
      "metadata": {
        "colab": {
          "base_uri": "https://localhost:8080/"
        },
        "id": "JAVO6cQhb1OX",
        "outputId": "c71cb7aa-d225-41fb-fae8-5af6225c5672"
      },
      "execution_count": null,
      "outputs": [
        {
          "output_type": "stream",
          "name": "stdout",
          "text": [
            "📺 YouTube URL: https://www.youtube.com/watch?v=aKq8bkY5eTU&pp=ygUIbXIgYmVhc3Q%3D\n",
            "🌐 Language? ('ta' for Tamil, leave empty for English): \n",
            "📥 Fetching transcript...\n",
            "✂️ Splitting transcript...\n",
            "🧠 Summarizing chunks...\n"
          ]
        },
        {
          "output_type": "stream",
          "name": "stderr",
          "text": [
            "Device set to use cpu\n"
          ]
        }
      ]
    },
    {
      "cell_type": "code",
      "source": [],
      "metadata": {
        "id": "TcyOJ8KNcQBf"
      },
      "execution_count": null,
      "outputs": []
    }
  ]
}