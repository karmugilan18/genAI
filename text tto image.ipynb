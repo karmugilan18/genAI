{
  "nbformat": 4,
  "nbformat_minor": 0,
  "metadata": {
    "colab": {
      "provenance": [],
      "gpuType": "T4",
      "authorship_tag": "ABX9TyPGmyE6FZ/CLDz4UIHg67Jk",
      "include_colab_link": true
    },
    "kernelspec": {
      "name": "python3",
      "display_name": "Python 3"
    },
    "language_info": {
      "name": "python"
    },
    "accelerator": "GPU"
  },
  "cells": [
    {
      "cell_type": "markdown",
      "metadata": {
        "id": "view-in-github",
        "colab_type": "text"
      },
      "source": [
        "<a href=\"https://colab.research.google.com/github/gosaitos/GEN-AI/blob/main/text2img.ipynb\" target=\"_parent\"><img src=\"https://colab.research.google.com/assets/colab-badge.svg\" alt=\"Open In Colab\"/></a>"
      ]
    },
    {
      "cell_type": "code",
      "execution_count": null,
      "metadata": {
        "id": "vN93EbVv8FxB"
      },
      "outputs": [],
      "source": [
        "#!pip install diffusers transformers accelerate scipy safetensors\n"
      ]
    },
    {
      "cell_type": "code",
      "source": [
        "from diffusers import StableDiffusionPipeline\n",
        "import torch\n",
        "import matplotlib.pyplot as plt\n",
        "\n",
        "# Load pipeline from Hugging Face\n",
        "pipe = StableDiffusionPipeline.from_pretrained(\n",
        "    \"stabilityai/stable-diffusion-2-1\",\n",
        "    torch_dtype=torch.float16,\n",
        ").to(\"cuda\")\n",
        "\n",
        "# Text prompt\n",
        "prompt = \"a japanese samurai fighting against a dragon\"\n",
        "\n",
        "# Generate image\n",
        "image = pipe(prompt).images[0]\n",
        "\n",
        "# Show image\n",
        "plt.imshow(image)\n",
        "plt.axis(\"off\")\n",
        "plt.title(prompt)\n",
        "plt.show()\n"
      ],
      "metadata": {
        "id": "es7MNFab8Jji"
      },
      "execution_count": null,
      "outputs": []
    },
    {
      "cell_type": "code",
      "source": [
        "from diffusers import StableDiffusionPipeline\n",
        "import torch\n",
        "import matplotlib.pyplot as plt\n",
        "\n",
        "# Load pipeline from Hugging Face\n",
        "pipe = StableDiffusionPipeline.from_pretrained(\n",
        "    \"Lykon/dreamshaper-8\",\n",
        "    torch_dtype=torch.float16,\n",
        ").to(\"cuda\")\n",
        "\n",
        "# Text prompt\n",
        "prompt = \"goku\"\n",
        "\n",
        "# Generate image\n",
        "image = pipe(prompt).images[0]\n",
        "\n",
        "# Show image\n",
        "plt.imshow(image)\n",
        "plt.axis(\"off\")\n",
        "plt.title(prompt)\n",
        "plt.show()\n"
      ],
      "metadata": {
        "id": "W_-7jpHz9Nbh"
      },
      "execution_count": null,
      "outputs": []
    },
    {
      "cell_type": "code",
      "source": [
        "!pip install gradio\n",
        "\n",
        "import torch\n",
        "import gradio as gr\n",
        "from diffusers import StableDiffusionPipeline\n",
        "\n",
        "# Load the Stable Diffusion 2.1 model\n",
        "pipe = StableDiffusionPipeline.from_pretrained(\n",
        "    \"stabilityai/stable-diffusion-2-1\",\n",
        "    torch_dtype=torch.float16,\n",
        "    revision=\"fp16\"\n",
        ").to(\"cuda\")\n",
        "\n",
        "# Define the generation function\n",
        "def generate_image(prompt):\n",
        "    with torch.no_grad():\n",
        "        image = pipe(prompt).images[0]\n",
        "    return image\n",
        "\n",
        "# Build the Gradio interface\n",
        "demo = gr.Interface(\n",
        "    fn=generate_image,\n",
        "    inputs=gr.Textbox(label=\"Enter your prompt\", placeholder=\"e.g., a castle in the clouds at sunset\"),\n",
        "    outputs=gr.Image(type=\"pil\"),\n",
        "    title=\"🧠 Text-to-Image Generator\",\n",
        "    description=\"Powered by stabilityai/stable-diffusion-2-1 on Hugging Face\"\n",
        ")\n",
        "\n",
        "# Launch the app\n",
        "demo.launch()\n"
      ],
      "metadata": {
        "id": "EZR7JBB8-xWF"
      },
      "execution_count": null,
      "outputs": []
    },
    {
      "cell_type": "code",
      "source": [],
      "metadata": {
        "id": "lxe-rcMkAXV0"
      },
      "execution_count": null,
      "outputs": []
    }
  ]
}