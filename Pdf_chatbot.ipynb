{
  "nbformat": 4,
  "nbformat_minor": 0,
  "metadata": {
    "colab": {
      "provenance": [],
      "authorship_tag": "ABX9TyPl7skIgMGqWVj9aM6pmW3G",
      "include_colab_link": true
    },
    "kernelspec": {
      "name": "python3",
      "display_name": "Python 3"
    },
    "language_info": {
      "name": "python"
    }
  },
  "cells": [
    {
      "cell_type": "markdown",
      "metadata": {
        "id": "view-in-github",
        "colab_type": "text"
      },
      "source": [
        "<a href=\"https://colab.research.google.com/github/gosaitos/GEN-AI/blob/main/Pdf_chatbot.ipynb\" target=\"_parent\"><img src=\"https://colab.research.google.com/assets/colab-badge.svg\" alt=\"Open In Colab\"/></a>"
      ]
    },
    {
      "cell_type": "code",
      "execution_count": 12,
      "metadata": {
        "id": "2glFOhoRG_yM",
        "colab": {
          "base_uri": "https://localhost:8080/",
          "height": 800
        },
        "outputId": "9fa53a9e-29c1-4197-8a25-8fd7cf857abf"
      },
      "outputs": [
        {
          "output_type": "stream",
          "name": "stderr",
          "text": [
            "/usr/local/lib/python3.11/dist-packages/huggingface_hub/utils/_auth.py:94: UserWarning: \n",
            "The secret `HF_TOKEN` does not exist in your Colab secrets.\n",
            "To authenticate with the Hugging Face Hub, create a token in your settings tab (https://huggingface.co/settings/tokens), set it as secret in your Google Colab and restart your session.\n",
            "You will be able to reuse this secret in all of your notebooks.\n",
            "Please note that authentication is recommended but still optional to access public models or datasets.\n",
            "  warnings.warn(\n",
            "/usr/local/lib/python3.11/dist-packages/gradio/blocks.py:1115: UserWarning: Cannot load compact. Caught Exception: 404 Client Error: Not Found for url: https://huggingface.co/api/spaces/compact (Request ID: Root=1-67ee25a8-6c4d18512465620f0dd2542a;d0c03dd2-824b-4129-9463-024584a8c236)\n",
            "\n",
            "Sorry, we can't find the page you are looking for.\n",
            "  warnings.warn(f\"Cannot load {theme}. Caught Exception: {str(e)}\")\n"
          ]
        },
        {
          "output_type": "stream",
          "name": "stdout",
          "text": [
            "Colab notebook detected. To show errors in colab notebook, set debug=True in launch()\n",
            "* Running on public URL: https://b165efcc40ef47d5ba.gradio.live\n",
            "\n",
            "This share link expires in 72 hours. For free permanent hosting and GPU upgrades, run `gradio deploy` from the terminal in the working directory to deploy to Hugging Face Spaces (https://huggingface.co/spaces)\n"
          ]
        },
        {
          "output_type": "display_data",
          "data": {
            "text/plain": [
              "<IPython.core.display.HTML object>"
            ],
            "text/html": [
              "<div><iframe src=\"https://b165efcc40ef47d5ba.gradio.live\" width=\"100%\" height=\"500\" allow=\"autoplay; camera; microphone; clipboard-read; clipboard-write;\" frameborder=\"0\" allowfullscreen></iframe></div>"
            ]
          },
          "metadata": {}
        },
        {
          "output_type": "execute_result",
          "data": {
            "text/plain": []
          },
          "metadata": {},
          "execution_count": 12
        }
      ],
      "source": [
        "import os\n",
        "import gradio as gr\n",
        "from langchain.chains import RetrievalQA\n",
        "from langchain.document_loaders import PyPDFLoader\n",
        "from langchain.vectorstores import FAISS\n",
        "from langchain.text_splitter import RecursiveCharacterTextSplitter\n",
        "from langchain_google_genai import ChatGoogleGenerativeAI, GoogleGenerativeAIEmbeddings\n",
        "import google.generativeai as genai\n",
        "\n",
        "# ✅ Set Google Gemini API Key\n",
        "GOOGLE_API_KEY = \"\"  # Replace with your Gemini API key\n",
        "os.environ[\"GOOGLE_API_KEY\"] = GOOGLE_API_KEY\n",
        "genai.configure(api_key=GOOGLE_API_KEY)\n",
        "\n",
        "# ✅ Function to process PDF and create retriever\n",
        "def create_pdf_retriever(pdf_path):\n",
        "    loader = PyPDFLoader(pdf_path)\n",
        "    docs = loader.load()\n",
        "\n",
        "    text_splitter = RecursiveCharacterTextSplitter(chunk_size=1000, chunk_overlap=100)\n",
        "    split_docs = text_splitter.split_documents(docs)\n",
        "\n",
        "    # ✅ Use correct import for Google AI Embeddings\n",
        "    embeddings = GoogleGenerativeAIEmbeddings(model=\"models/embedding-001\")\n",
        "\n",
        "    # Store embeddings in FAISS vector store\n",
        "    vectorstore = FAISS.from_documents(split_docs, embeddings)\n",
        "\n",
        "    return vectorstore.as_retriever()\n",
        "\n",
        "# ✅ Initialize Gemini AI LLM\n",
        "llm = ChatGoogleGenerativeAI(model=\"gemini-1.5-flash\")\n",
        "\n",
        "# ✅ Function to get an answer based on the PDF\n",
        "def answer_question(pdf_file, user_query):\n",
        "    if pdf_file is None:\n",
        "        return \"Please upload a PDF first.\"\n",
        "\n",
        "    pdf_path = pdf_file.name\n",
        "    retriever = create_pdf_retriever(pdf_path)\n",
        "\n",
        "    qa_chain = RetrievalQA.from_chain_type(llm=llm, retriever=retriever)\n",
        "    response = qa_chain.run(user_query)\n",
        "\n",
        "    return response if response else \"Could not find relevant information.\"\n",
        "\n",
        "# ✅ Gradio UI\n",
        "iface = gr.Interface(\n",
        "    fn=answer_question,\n",
        "    inputs=[\n",
        "        gr.File(label=\"Upload PDF\"),\n",
        "        gr.Textbox(lines=2, placeholder=\"Ask a question about the PDF content...\"),\n",
        "    ],\n",
        "    outputs=\"text\",\n",
        "    title=\"PDF QA Chatbot (LangChain + Gemini AI + RAG)\",\n",
        "    description=\"Upload a PDF and ask questions about its content.\",\n",
        "    theme=\"compact\"\n",
        ")\n",
        "\n",
        "iface.launch(share=True)  # Generates a public link\n"
      ]
    },
    {
      "cell_type": "code",
      "source": [],
      "metadata": {
        "id": "hxH3DDoRQXa6"
      },
      "execution_count": null,
      "outputs": []
    }
  ]
}