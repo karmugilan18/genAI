{
  "nbformat": 4,
  "nbformat_minor": 0,
  "metadata": {
    "colab": {
      "provenance": [],
      "authorship_tag": "ABX9TyOxgEDCWI/HcfZzLlRVWI/z",
      "include_colab_link": true
    },
    "kernelspec": {
      "name": "python3",
      "display_name": "Python 3"
    },
    "language_info": {
      "name": "python"
    }
  },
  "cells": [
    {
      "cell_type": "markdown",
      "metadata": {
        "id": "view-in-github",
        "colab_type": "text"
      },
      "source": [
        "<a href=\"https://colab.research.google.com/github/gosaitos/GEN-AI/blob/main/Wiki_bot(using_RAG).ipynb\" target=\"_parent\"><img src=\"https://colab.research.google.com/assets/colab-badge.svg\" alt=\"Open In Colab\"/></a>"
      ]
    },
    {
      "cell_type": "code",
      "execution_count": 6,
      "metadata": {
        "id": "6mECHwCR2X9D"
      },
      "outputs": [],
      "source": [
        "#!pip install langchain openai wikipedia\n",
        "#!pip install langchain-community\n"
      ]
    },
    {
      "cell_type": "code",
      "source": [
        "import os\n",
        "from langchain.chat_models import ChatOpenAI\n",
        "from langchain.chains import LLMChain\n",
        "from langchain.prompts import PromptTemplate\n",
        "from langchain.utilities import WikipediaAPIWrapper\n",
        "\n",
        "# Set OpenRouter API Key\n",
        "os.environ[\"OPENAI_API_KEY\"] = \"\"\n",
        "\n",
        "# Use OpenRouter API\n",
        "llm = ChatOpenAI(\n",
        "    openai_api_base=\"https://openrouter.ai/api/v1\",\n",
        "    model_name=\"mistralai/mistral-7b-instruct\",  # Choose a model from OpenRouter's available options\n",
        "    temperature=0.7\n",
        ")\n"
      ],
      "metadata": {
        "id": "wx2WnwXF2hrV"
      },
      "execution_count": 28,
      "outputs": []
    },
    {
      "cell_type": "code",
      "source": [
        "wiki = WikipediaAPIWrapper()\n",
        "\n",
        "def search_wikipedia(query):\n",
        "    try:\n",
        "        result = wiki.run(query)\n",
        "        return result\n",
        "    except Exception as e:\n",
        "        return f\"Error fetching Wikipedia content: {e}\"\n"
      ],
      "metadata": {
        "id": "JtOMFJ5t2-zU"
      },
      "execution_count": 29,
      "outputs": []
    },
    {
      "cell_type": "code",
      "source": [
        "prompt = PromptTemplate(\n",
        "    input_variables=[\"query\", \"wiki_info\"],\n",
        "    template=\"You are a Wikipedia expert. Based on the query '{query}', provide a response using this Wikipedia information:\\n\\n{wiki_info}\"\n",
        ")\n",
        "\n",
        "chain = LLMChain(llm=llm, prompt=prompt)\n",
        "\n",
        "def wikipedia_chatbot(query):\n",
        "    wiki_info = search_wikipedia(query)\n",
        "    response = chain.run(query=query, wiki_info=wiki_info)\n",
        "    return response\n"
      ],
      "metadata": {
        "id": "hDjmJrRS3Ia9"
      },
      "execution_count": 30,
      "outputs": []
    },
    {
      "cell_type": "code",
      "source": [
        "query = \"Anna university\"\n",
        "response = wikipedia_chatbot(query)\n",
        "print(response)\n"
      ],
      "metadata": {
        "colab": {
          "base_uri": "https://localhost:8080/"
        },
        "id": "whDJhcks3LQD",
        "outputId": "08e3571a-fdcb-4228-b282-bac284962bc0"
      },
      "execution_count": 68,
      "outputs": [
        {
          "output_type": "stream",
          "name": "stdout",
          "text": [
            " Anna University is a public state university located in Chennai, Tamil Nadu, India, named after C. N. Annadurai, a former Chief Minister of Tamil Nadu. Established on September 4, 1978, the main campus is in Guindy.\n",
            "\n",
            "Anna University has numerous affiliated institutions, and for a comprehensive list, you can refer to the Wikipedia page titled \"List of colleges affiliated to the Anna University.\"\n",
            "\n",
            "As of July 2014, there are 552 engineering colleges in Tamil Nadu affiliated to Anna University. Out of these, 14 are Government/aided colleges, 33 are Autonomous colleges, and the remaining are self-financing colleges, with four being University departments within Anna University. For more detailed information, you may find the list of engineering colleges in Tamil Nadu on this Google Document: [Link to the Google Document](https://docs.google.com/document/d/1AeYixeUOppsnmI_zeeIM_TwMQ01_OJCxltZ5gOnq4Cc/edit?usp=sharing).\n"
          ]
        }
      ]
    },
    {
      "cell_type": "code",
      "source": [
        "import gradio as gr\n",
        "import os\n",
        "from langchain.chains import RetrievalQA\n",
        "from langchain_google_genai import ChatGoogleGenerativeAI, GoogleGenerativeAIEmbeddings\n",
        "from langchain.document_loaders import WikipediaLoader\n",
        "from langchain.vectorstores import FAISS\n",
        "from langchain.text_splitter import RecursiveCharacterTextSplitter\n",
        "from google.generativeai import configure\n",
        "\n",
        "# ✅ Set your Google Gemini API Key\n",
        "GOOGLE_API_KEY = \"\"\n",
        "configure(api_key=GOOGLE_API_KEY)\n",
        "\n",
        "# ✅ Function to create a Wikipedia-based retriever\n",
        "def create_wikipedia_retriever(query):\n",
        "    try:\n",
        "        loader = WikipediaLoader(query=query, lang=\"en\")\n",
        "        docs = loader.load()\n",
        "\n",
        "        if not docs:\n",
        "            return None  # No Wikipedia data found\n",
        "\n",
        "        # Split documents into smaller chunks\n",
        "        text_splitter = RecursiveCharacterTextSplitter(chunk_size=1000, chunk_overlap=100)\n",
        "        split_docs = text_splitter.split_documents(docs)\n",
        "\n",
        "        # Generate embeddings using Google AI\n",
        "        embeddings = GoogleGenerativeAIEmbeddings(model=\"models/embedding-001\", google_api_key=GOOGLE_API_KEY)\n",
        "\n",
        "        # Store embeddings in FAISS\n",
        "        vectorstore = FAISS.from_documents(split_docs, embeddings)\n",
        "\n",
        "        return vectorstore.as_retriever()\n",
        "    except Exception as e:\n",
        "        return None  # Handle errors\n",
        "\n",
        "# ✅ Initialize Gemini AI LLM\n",
        "llm = ChatGoogleGenerativeAI(model=\"gemini-1.5-flash\", google_api_key=GOOGLE_API_KEY)\n",
        "\n",
        "# ✅ Function to get a Wikipedia-based response\n",
        "def get_response(user_query):\n",
        "    retriever = create_wikipedia_retriever(user_query)\n",
        "\n",
        "    if not retriever:\n",
        "        return \"No relevant data found on Wikipedia. Try another query.\"\n",
        "\n",
        "    qa_chain = RetrievalQA.from_chain_type(llm=llm, retriever=retriever)\n",
        "    response = qa_chain.run(user_query)\n",
        "\n",
        "    return response if response else \"Could not generate a meaningful response.\"\n",
        "\n",
        "# ✅ Gradio UI\n",
        "def chatbot_ui(user_input):\n",
        "    return get_response(user_input)\n",
        "\n",
        "# ✅ Launch Gradio Interface\n",
        "iface = gr.Interface(\n",
        "    fn=chatbot_ui,\n",
        "    inputs=gr.Textbox(lines=2, placeholder=\"Ask me anything from Wikipedia...\"),\n",
        "    outputs=\"text\",\n",
        "    title=\"Wikipedia Chatbot (Gemini AI)\",\n",
        "    description=\"A chatbot that retrieves Wikipedia information using Gemini AI and RAG.\",\n",
        "    theme=\"compact\"\n",
        ")\n",
        "\n",
        "iface.launch(share=True)  # 🔗 Generates a public link\n"
      ],
      "metadata": {
        "colab": {
          "base_uri": "https://localhost:8080/",
          "height": 800
        },
        "id": "FgoLpVidAoVK",
        "outputId": "0bba28c5-008c-43d1-a41a-72583ded13c7"
      },
      "execution_count": 10,
      "outputs": [
        {
          "output_type": "stream",
          "name": "stderr",
          "text": [
            "/usr/local/lib/python3.11/dist-packages/huggingface_hub/utils/_auth.py:94: UserWarning: \n",
            "The secret `HF_TOKEN` does not exist in your Colab secrets.\n",
            "To authenticate with the Hugging Face Hub, create a token in your settings tab (https://huggingface.co/settings/tokens), set it as secret in your Google Colab and restart your session.\n",
            "You will be able to reuse this secret in all of your notebooks.\n",
            "Please note that authentication is recommended but still optional to access public models or datasets.\n",
            "  warnings.warn(\n",
            "/usr/local/lib/python3.11/dist-packages/gradio/blocks.py:1115: UserWarning: Cannot load compact. Caught Exception: 404 Client Error: Not Found for url: https://huggingface.co/api/spaces/compact (Request ID: Root=1-67ee1730-2db453c221ffd7ad2c41ed1b;c3f20998-75f6-4b53-bc31-6eac14c18566)\n",
            "\n",
            "Sorry, we can't find the page you are looking for.\n",
            "  warnings.warn(f\"Cannot load {theme}. Caught Exception: {str(e)}\")\n"
          ]
        },
        {
          "output_type": "stream",
          "name": "stdout",
          "text": [
            "Colab notebook detected. To show errors in colab notebook, set debug=True in launch()\n",
            "* Running on public URL: https://24bfc63ef23baeb162.gradio.live\n",
            "\n",
            "This share link expires in 72 hours. For free permanent hosting and GPU upgrades, run `gradio deploy` from the terminal in the working directory to deploy to Hugging Face Spaces (https://huggingface.co/spaces)\n"
          ]
        },
        {
          "output_type": "display_data",
          "data": {
            "text/plain": [
              "<IPython.core.display.HTML object>"
            ],
            "text/html": [
              "<div><iframe src=\"https://24bfc63ef23baeb162.gradio.live\" width=\"100%\" height=\"500\" allow=\"autoplay; camera; microphone; clipboard-read; clipboard-write;\" frameborder=\"0\" allowfullscreen></iframe></div>"
            ]
          },
          "metadata": {}
        },
        {
          "output_type": "execute_result",
          "data": {
            "text/plain": []
          },
          "metadata": {},
          "execution_count": 10
        }
      ]
    },
    {
      "cell_type": "code",
      "source": [],
      "metadata": {
        "id": "qqIqraf8C7yR"
      },
      "execution_count": null,
      "outputs": []
    }
  ]
}